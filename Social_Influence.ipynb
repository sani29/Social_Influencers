{
 "cells": [
  {
   "cell_type": "code",
   "execution_count": 12,
   "metadata": {
    "colab": {
     "base_uri": "https://localhost:8080/",
     "height": 34
    },
    "colab_type": "code",
    "id": "svMuIE70tFWX",
    "outputId": "e2c1cdc2-6226-4c87-e3f1-8f72c586c039"
   },
   "outputs": [
    {
     "name": "stdout",
     "output_type": "stream",
     "text": [
      "Drive already mounted at /content/gdrive; to attempt to forcibly remount, call drive.mount(\"/content/gdrive\", force_remount=True).\n"
     ]
    }
   ],
   "source": [
    "from google.colab import drive\n",
    "drive.mount('/content/gdrive')"
   ]
  },
  {
   "cell_type": "markdown",
   "metadata": {
    "colab_type": "text",
    "id": "FvxllLlytOrd"
   },
   "source": [
    "# Importing Libraries"
   ]
  },
  {
   "cell_type": "code",
   "execution_count": 1,
   "metadata": {
    "colab": {},
    "colab_type": "code",
    "collapsed": true,
    "id": "Y8jHjXKStKMw"
   },
   "outputs": [],
   "source": [
    "import pandas as pd\n",
    "from pandas import Series,DataFrame\n",
    "import numpy as np\n",
    "from sklearn.preprocessing import LabelEncoder\n",
    "from sklearn.metrics import confusion_matrix \n",
    "\n",
    "import os\n",
    "import warnings\n",
    "warnings.filterwarnings('ignore')\n",
    "from datetime import datetime\n",
    "from sklearn.model_selection import RandomizedSearchCV, GridSearchCV\n",
    "from sklearn.metrics import roc_auc_score\n",
    "from sklearn.model_selection import StratifiedKFold\n",
    "# Algorithms\n",
    "from sklearn.ensemble import RandomForestClassifier,AdaBoostClassifier,GradientBoostingClassifier,ExtraTreesClassifier\n",
    "from sklearn.neighbors import KNeighborsClassifier\n",
    "from sklearn.naive_bayes import GaussianNB\n",
    "from xgboost import XGBClassifier"
   ]
  },
  {
   "cell_type": "markdown",
   "metadata": {
    "colab_type": "text",
    "id": "mhIKlhxVtjVm"
   },
   "source": [
    "# Importing the dataset"
   ]
  },
  {
   "cell_type": "code",
   "execution_count": 2,
   "metadata": {
    "colab": {},
    "colab_type": "code",
    "collapsed": true,
    "id": "lmOYxnLVteSI"
   },
   "outputs": [],
   "source": [
    "# Importing the dataset\n",
    "df_trainX = pd.read_csv(\"Train_Data_X.csv\")\n",
    "\n",
    "df_trainY = pd.read_csv(\"Train_Data_y.csv\")\n",
    "\n",
    "df_testX = pd.read_csv(\"Test_Data_X.csv\")"
   ]
  },
  {
   "cell_type": "markdown",
   "metadata": {
    "colab_type": "text",
    "id": "zYQreUX8wyrt"
   },
   "source": [
    "# Data Preprocessing"
   ]
  },
  {
   "cell_type": "code",
   "execution_count": 3,
   "metadata": {
    "colab": {
     "base_uri": "https://localhost:8080/",
     "height": 105
    },
    "colab_type": "code",
    "id": "jAhJXnpYtbIo",
    "outputId": "9dac1e79-c108-4695-c3b3-49c5edeac8ba"
   },
   "outputs": [
    {
     "name": "stdout",
     "output_type": "stream",
     "text": [
      "\n",
      "The train data X size is : (2711, 23) \n",
      "\n",
      "The train data Y size is : (2711, 2) \n",
      "The test data X size is : (1163, 23) \n"
     ]
    }
   ],
   "source": [
    "#checking the data size\n",
    "print(\"\\nThe train data X size is : {} \".format(df_trainX.shape))\n",
    "print(\"\\nThe train data Y size is : {} \".format(df_trainY.shape))\n",
    "print(\"The test data X size is : {} \".format(df_testX.shape))"
   ]
  },
  {
   "cell_type": "code",
   "execution_count": 4,
   "metadata": {
    "colab": {
     "base_uri": "https://localhost:8080/",
     "height": 1172
    },
    "colab_type": "code",
    "id": "TDoovqOctGnO",
    "outputId": "ec97f990-09e2-438b-df6b-7145333fffef"
   },
   "outputs": [
    {
     "name": "stdout",
     "output_type": "stream",
     "text": [
      "<class 'pandas.core.frame.DataFrame'>\n",
      "RangeIndex: 2711 entries, 0 to 2710\n",
      "Data columns (total 23 columns):\n",
      "Unnamed: 0             2711 non-null int64\n",
      "X_follower_count       2711 non-null int64\n",
      "X_following_count      2711 non-null int64\n",
      "X_listed_count         2711 non-null int64\n",
      "X_mentions_received    2711 non-null float64\n",
      "X_retweets_received    2711 non-null float64\n",
      "X_mentions_sent        2711 non-null float64\n",
      "X_retweets_sent        2711 non-null float64\n",
      "X_posts                2711 non-null float64\n",
      "X_network_feature_1    2711 non-null int64\n",
      "X_network_feature_2    2711 non-null float64\n",
      "X_network_feature_3    2711 non-null float64\n",
      "Y_follower_count       2711 non-null int64\n",
      "Y_following_count      2711 non-null int64\n",
      "Y_listed_count         2711 non-null int64\n",
      "Y_mentions_received    2711 non-null float64\n",
      "Y_retweets_received    2711 non-null float64\n",
      "Y_mentions_sent        2711 non-null float64\n",
      "Y_retweets_sent        2711 non-null float64\n",
      "Y_posts                2711 non-null float64\n",
      "Y_network_feature_1    2711 non-null int64\n",
      "Y_network_feature_2    2711 non-null float64\n",
      "Y_network_feature_3    2711 non-null float64\n",
      "dtypes: float64(14), int64(9)\n",
      "memory usage: 487.2 KB\n",
      "-------------------------\n",
      "<class 'pandas.core.frame.DataFrame'>\n",
      "RangeIndex: 2711 entries, 0 to 2710\n",
      "Data columns (total 2 columns):\n",
      "Unnamed: 0          2711 non-null int64\n",
      "X_social_than_Y?    2711 non-null int64\n",
      "dtypes: int64(2)\n",
      "memory usage: 42.4 KB\n",
      "-------------------------\n",
      "<class 'pandas.core.frame.DataFrame'>\n",
      "RangeIndex: 1163 entries, 0 to 1162\n",
      "Data columns (total 23 columns):\n",
      "Unnamed: 0             1163 non-null int64\n",
      "X_follower_count       1163 non-null int64\n",
      "X_following_count      1163 non-null int64\n",
      "X_listed_count         1163 non-null int64\n",
      "X_mentions_received    1163 non-null float64\n",
      "X_retweets_received    1163 non-null float64\n",
      "X_mentions_sent        1163 non-null float64\n",
      "X_retweets_sent        1163 non-null float64\n",
      "X_posts                1163 non-null float64\n",
      "X_network_feature_1    1163 non-null int64\n",
      "X_network_feature_2    1163 non-null float64\n",
      "X_network_feature_3    1163 non-null float64\n",
      "Y_follower_count       1163 non-null int64\n",
      "Y_following_count      1163 non-null int64\n",
      "Y_listed_count         1163 non-null int64\n",
      "Y_mentions_received    1163 non-null float64\n",
      "Y_retweets_received    1163 non-null float64\n",
      "Y_mentions_sent        1163 non-null float64\n",
      "Y_retweets_sent        1163 non-null float64\n",
      "Y_posts                1163 non-null float64\n",
      "Y_network_feature_1    1163 non-null int64\n",
      "Y_network_feature_2    1163 non-null float64\n",
      "Y_network_feature_3    1163 non-null float64\n",
      "dtypes: float64(14), int64(9)\n",
      "memory usage: 209.1 KB\n"
     ]
    }
   ],
   "source": [
    "df_trainX.info()\n",
    "print('-'*25)\n",
    "df_trainY.info()\n",
    "print('-'*25)\n",
    "df_testX.info()"
   ]
  },
  {
   "cell_type": "markdown",
   "metadata": {
    "colab_type": "text",
    "id": "oHACbH4KxFM_"
   },
   "source": [
    "**What we observe from this:**\n",
    "There are no missing values. "
   ]
  },
  {
   "cell_type": "markdown",
   "metadata": {
    "colab_type": "text",
    "id": "8oycqd8FvfHp"
   },
   "source": [
    "# Data handling"
   ]
  },
  {
   "cell_type": "code",
   "execution_count": 5,
   "metadata": {
    "colab": {},
    "colab_type": "code",
    "collapsed": true,
    "id": "wfF74OMV2gTV"
   },
   "outputs": [],
   "source": [
    "df_trainX = df_trainX.drop(['Unnamed: 0'], axis=1)\n",
    "df_trainY = df_trainY.drop(['Unnamed: 0'], axis=1)\n",
    "df_testX = df_testX.drop(['Unnamed: 0'], axis=1)"
   ]
  },
  {
   "cell_type": "code",
   "execution_count": 6,
   "metadata": {
    "colab": {},
    "colab_type": "code",
    "collapsed": true,
    "id": "QWy-q6fZvnOm"
   },
   "outputs": [],
   "source": [
    "# Generating few new features as rate of X\n",
    "\n",
    "df_trainX['follow_rateX'] = df_trainX['X_following_count']/df_trainX['X_follower_count']\n",
    "df_testX['follow_rateX'] = df_testX['X_following_count']/df_testX['X_follower_count']\n",
    "df_trainX['mentions_rateX'] = df_trainX['X_mentions_received']/df_trainX['X_mentions_sent']\n",
    "df_testX['mentions_rateX'] = df_testX['X_mentions_received']/df_testX['X_mentions_sent']\n",
    "df_trainX['retweets_rateX'] = df_trainX['X_retweets_received']/df_trainX['X_retweets_sent']\n",
    "df_testX['retweets_rateX'] = df_testX['X_retweets_received']/df_testX['X_retweets_sent']\n"
   ]
  },
  {
   "cell_type": "code",
   "execution_count": 7,
   "metadata": {
    "colab": {},
    "colab_type": "code",
    "collapsed": true,
    "id": "a_1-hjnMzYZx"
   },
   "outputs": [],
   "source": [
    "# Generating few new features as rate of Y\n",
    "\n",
    "df_trainX['follow_rateY'] = df_trainX['Y_following_count']/df_trainX['Y_follower_count']\n",
    "df_testX['follow_rateY'] = df_testX['Y_following_count']/df_testX['Y_follower_count']\n",
    "df_trainX['mentions_rateY'] = df_trainX['Y_mentions_received']/df_trainX['Y_mentions_sent']\n",
    "df_testX['mentions_rateY'] = df_testX['Y_mentions_received']/df_testX['Y_mentions_sent']\n",
    "df_trainX['retweets_rateY'] = df_trainX['Y_retweets_received']/df_trainX['Y_retweets_sent']\n",
    "df_testX['retweets_rateY'] = df_testX['Y_retweets_received']/df_testX['Y_retweets_sent']\n"
   ]
  },
  {
   "cell_type": "code",
   "execution_count": 8,
   "metadata": {
    "colab": {
     "base_uri": "https://localhost:8080/",
     "height": 246
    },
    "colab_type": "code",
    "id": "zhONqozAy6Kv",
    "outputId": "0dfb9faf-8bf0-4b95-c394-e183a10fb566"
   },
   "outputs": [
    {
     "data": {
      "text/html": [
       "<div>\n",
       "<style scoped>\n",
       "    .dataframe tbody tr th:only-of-type {\n",
       "        vertical-align: middle;\n",
       "    }\n",
       "\n",
       "    .dataframe tbody tr th {\n",
       "        vertical-align: top;\n",
       "    }\n",
       "\n",
       "    .dataframe thead th {\n",
       "        text-align: right;\n",
       "    }\n",
       "</style>\n",
       "<table border=\"1\" class=\"dataframe\">\n",
       "  <thead>\n",
       "    <tr style=\"text-align: right;\">\n",
       "      <th></th>\n",
       "      <th>X_follower_count</th>\n",
       "      <th>X_following_count</th>\n",
       "      <th>X_listed_count</th>\n",
       "      <th>X_mentions_received</th>\n",
       "      <th>X_retweets_received</th>\n",
       "      <th>X_mentions_sent</th>\n",
       "      <th>X_retweets_sent</th>\n",
       "      <th>X_posts</th>\n",
       "      <th>X_network_feature_1</th>\n",
       "      <th>X_network_feature_2</th>\n",
       "      <th>...</th>\n",
       "      <th>Y_posts</th>\n",
       "      <th>Y_network_feature_1</th>\n",
       "      <th>Y_network_feature_2</th>\n",
       "      <th>Y_network_feature_3</th>\n",
       "      <th>follow_rateX</th>\n",
       "      <th>mentions_rateX</th>\n",
       "      <th>retweets_rateX</th>\n",
       "      <th>follow_rateY</th>\n",
       "      <th>mentions_rateY</th>\n",
       "      <th>retweets_rateY</th>\n",
       "    </tr>\n",
       "  </thead>\n",
       "  <tbody>\n",
       "    <tr>\n",
       "      <th>0</th>\n",
       "      <td>4981</td>\n",
       "      <td>2026</td>\n",
       "      <td>170</td>\n",
       "      <td>57.856207</td>\n",
       "      <td>18.718991</td>\n",
       "      <td>3.523850</td>\n",
       "      <td>1.630532</td>\n",
       "      <td>5.137533</td>\n",
       "      <td>118</td>\n",
       "      <td>65.990909</td>\n",
       "      <td>...</td>\n",
       "      <td>1.635264</td>\n",
       "      <td>10</td>\n",
       "      <td>20.000000</td>\n",
       "      <td>30.000000</td>\n",
       "      <td>0.406746</td>\n",
       "      <td>16.418466</td>\n",
       "      <td>11.480295</td>\n",
       "      <td>0.828903</td>\n",
       "      <td>0.094898</td>\n",
       "      <td>0.293924</td>\n",
       "    </tr>\n",
       "    <tr>\n",
       "      <th>1</th>\n",
       "      <td>45639</td>\n",
       "      <td>902</td>\n",
       "      <td>2661</td>\n",
       "      <td>297.708558</td>\n",
       "      <td>73.997768</td>\n",
       "      <td>55.763536</td>\n",
       "      <td>6.666984</td>\n",
       "      <td>47.722563</td>\n",
       "      <td>561</td>\n",
       "      <td>147.404293</td>\n",
       "      <td>...</td>\n",
       "      <td>9.732542</td>\n",
       "      <td>2607</td>\n",
       "      <td>41.289101</td>\n",
       "      <td>1967.639388</td>\n",
       "      <td>0.019764</td>\n",
       "      <td>5.338768</td>\n",
       "      <td>11.099137</td>\n",
       "      <td>0.000259</td>\n",
       "      <td>109.900479</td>\n",
       "      <td>35.863433</td>\n",
       "    </tr>\n",
       "    <tr>\n",
       "      <th>2</th>\n",
       "      <td>1259726</td>\n",
       "      <td>377</td>\n",
       "      <td>6129</td>\n",
       "      <td>1817.298643</td>\n",
       "      <td>422.667342</td>\n",
       "      <td>24.043562</td>\n",
       "      <td>15.131286</td>\n",
       "      <td>25.584763</td>\n",
       "      <td>3376</td>\n",
       "      <td>30.048666</td>\n",
       "      <td>...</td>\n",
       "      <td>0.201007</td>\n",
       "      <td>10</td>\n",
       "      <td>20.000000</td>\n",
       "      <td>30.000000</td>\n",
       "      <td>0.000299</td>\n",
       "      <td>75.583585</td>\n",
       "      <td>27.933339</td>\n",
       "      <td>1.475362</td>\n",
       "      <td>1.000000</td>\n",
       "      <td>1.000000</td>\n",
       "    </tr>\n",
       "    <tr>\n",
       "      <th>3</th>\n",
       "      <td>33719</td>\n",
       "      <td>29367</td>\n",
       "      <td>903</td>\n",
       "      <td>256.829708</td>\n",
       "      <td>47.839261</td>\n",
       "      <td>13.112510</td>\n",
       "      <td>0.679044</td>\n",
       "      <td>24.584411</td>\n",
       "      <td>238</td>\n",
       "      <td>92.779221</td>\n",
       "      <td>...</td>\n",
       "      <td>1.645168</td>\n",
       "      <td>14</td>\n",
       "      <td>20.000000</td>\n",
       "      <td>98.500000</td>\n",
       "      <td>0.870933</td>\n",
       "      <td>19.586617</td>\n",
       "      <td>70.450871</td>\n",
       "      <td>1.159204</td>\n",
       "      <td>1.262177</td>\n",
       "      <td>1.074209</td>\n",
       "    </tr>\n",
       "    <tr>\n",
       "      <th>4</th>\n",
       "      <td>1834057</td>\n",
       "      <td>813</td>\n",
       "      <td>30642</td>\n",
       "      <td>3348.533818</td>\n",
       "      <td>776.852854</td>\n",
       "      <td>58.663704</td>\n",
       "      <td>14.616587</td>\n",
       "      <td>35.319419</td>\n",
       "      <td>6271</td>\n",
       "      <td>73.226014</td>\n",
       "      <td>...</td>\n",
       "      <td>7.547107</td>\n",
       "      <td>39</td>\n",
       "      <td>99.206897</td>\n",
       "      <td>2876.793103</td>\n",
       "      <td>0.000443</td>\n",
       "      <td>57.080164</td>\n",
       "      <td>53.148718</td>\n",
       "      <td>0.508216</td>\n",
       "      <td>1.493745</td>\n",
       "      <td>1.069563</td>\n",
       "    </tr>\n",
       "  </tbody>\n",
       "</table>\n",
       "<p>5 rows × 28 columns</p>\n",
       "</div>"
      ],
      "text/plain": [
       "   X_follower_count  X_following_count  X_listed_count  X_mentions_received  \\\n",
       "0              4981               2026             170            57.856207   \n",
       "1             45639                902            2661           297.708558   \n",
       "2           1259726                377            6129          1817.298643   \n",
       "3             33719              29367             903           256.829708   \n",
       "4           1834057                813           30642          3348.533818   \n",
       "\n",
       "   X_retweets_received  X_mentions_sent  X_retweets_sent    X_posts  \\\n",
       "0            18.718991         3.523850         1.630532   5.137533   \n",
       "1            73.997768        55.763536         6.666984  47.722563   \n",
       "2           422.667342        24.043562        15.131286  25.584763   \n",
       "3            47.839261        13.112510         0.679044  24.584411   \n",
       "4           776.852854        58.663704        14.616587  35.319419   \n",
       "\n",
       "   X_network_feature_1  X_network_feature_2       ...         Y_posts  \\\n",
       "0                  118            65.990909       ...        1.635264   \n",
       "1                  561           147.404293       ...        9.732542   \n",
       "2                 3376            30.048666       ...        0.201007   \n",
       "3                  238            92.779221       ...        1.645168   \n",
       "4                 6271            73.226014       ...        7.547107   \n",
       "\n",
       "   Y_network_feature_1  Y_network_feature_2  Y_network_feature_3  \\\n",
       "0                   10            20.000000            30.000000   \n",
       "1                 2607            41.289101          1967.639388   \n",
       "2                   10            20.000000            30.000000   \n",
       "3                   14            20.000000            98.500000   \n",
       "4                   39            99.206897          2876.793103   \n",
       "\n",
       "   follow_rateX  mentions_rateX  retweets_rateX  follow_rateY  mentions_rateY  \\\n",
       "0      0.406746       16.418466       11.480295      0.828903        0.094898   \n",
       "1      0.019764        5.338768       11.099137      0.000259      109.900479   \n",
       "2      0.000299       75.583585       27.933339      1.475362        1.000000   \n",
       "3      0.870933       19.586617       70.450871      1.159204        1.262177   \n",
       "4      0.000443       57.080164       53.148718      0.508216        1.493745   \n",
       "\n",
       "   retweets_rateY  \n",
       "0        0.293924  \n",
       "1       35.863433  \n",
       "2        1.000000  \n",
       "3        1.074209  \n",
       "4        1.069563  \n",
       "\n",
       "[5 rows x 28 columns]"
      ]
     },
     "execution_count": 8,
     "metadata": {},
     "output_type": "execute_result"
    }
   ],
   "source": [
    "df_trainX.head()"
   ]
  },
  {
   "cell_type": "code",
   "execution_count": 9,
   "metadata": {},
   "outputs": [],
   "source": [
    "df_trainY = pd.get_dummies(df_trainY, columns=['X_social_than_Y?'])"
   ]
  },
  {
   "cell_type": "code",
   "execution_count": 10,
   "metadata": {
    "collapsed": true
   },
   "outputs": [],
   "source": [
    "df_trainY = df_trainY.drop(['X_social_than_Y?_0'], axis=1)"
   ]
  },
  {
   "cell_type": "code",
   "execution_count": 11,
   "metadata": {
    "colab": {
     "base_uri": "https://localhost:8080/",
     "height": 197
    },
    "colab_type": "code",
    "id": "dVH_9U_Wzusl",
    "outputId": "2ac7384e-d017-4ca5-8abf-07bd214495a6"
   },
   "outputs": [
    {
     "data": {
      "text/html": [
       "<div>\n",
       "<style scoped>\n",
       "    .dataframe tbody tr th:only-of-type {\n",
       "        vertical-align: middle;\n",
       "    }\n",
       "\n",
       "    .dataframe tbody tr th {\n",
       "        vertical-align: top;\n",
       "    }\n",
       "\n",
       "    .dataframe thead th {\n",
       "        text-align: right;\n",
       "    }\n",
       "</style>\n",
       "<table border=\"1\" class=\"dataframe\">\n",
       "  <thead>\n",
       "    <tr style=\"text-align: right;\">\n",
       "      <th></th>\n",
       "      <th>X_social_than_Y?_1</th>\n",
       "    </tr>\n",
       "  </thead>\n",
       "  <tbody>\n",
       "    <tr>\n",
       "      <th>0</th>\n",
       "      <td>0</td>\n",
       "    </tr>\n",
       "    <tr>\n",
       "      <th>1</th>\n",
       "      <td>0</td>\n",
       "    </tr>\n",
       "    <tr>\n",
       "      <th>2</th>\n",
       "      <td>1</td>\n",
       "    </tr>\n",
       "    <tr>\n",
       "      <th>3</th>\n",
       "      <td>1</td>\n",
       "    </tr>\n",
       "    <tr>\n",
       "      <th>4</th>\n",
       "      <td>1</td>\n",
       "    </tr>\n",
       "  </tbody>\n",
       "</table>\n",
       "</div>"
      ],
      "text/plain": [
       "   X_social_than_Y?_1\n",
       "0                   0\n",
       "1                   0\n",
       "2                   1\n",
       "3                   1\n",
       "4                   1"
      ]
     },
     "execution_count": 11,
     "metadata": {},
     "output_type": "execute_result"
    }
   ],
   "source": [
    "df_trainY.head()"
   ]
  },
  {
   "cell_type": "code",
   "execution_count": 12,
   "metadata": {
    "colab": {
     "base_uri": "https://localhost:8080/",
     "height": 143
    },
    "colab_type": "code",
    "collapsed": true,
    "id": "h2B8guPs5yPn",
    "outputId": "3108c503-d930-46df-8737-caa2edb7d4d3"
   },
   "outputs": [],
   "source": [
    "# Feature Scaling\n",
    "from sklearn.preprocessing import StandardScaler\n",
    "sc_X = StandardScaler()\n",
    "df_trainX = sc_X.fit_transform(df_trainX)\n",
    "df_testX = sc_X.transform(df_testX)"
   ]
  },
  {
   "cell_type": "code",
   "execution_count": 13,
   "metadata": {
    "colab": {},
    "colab_type": "code",
    "collapsed": true,
    "id": "v9P6xkN_-SHX"
   },
   "outputs": [],
   "source": [
    "def timer(start_time=None):\n",
    "    if not start_time:\n",
    "        start_time = datetime.now()\n",
    "        return start_time\n",
    "    elif start_time:\n",
    "        thour, temp_sec = divmod((datetime.now() - start_time).total_seconds(), 3600)\n",
    "        tmin, tsec = divmod(temp_sec, 60)\n",
    "        print('\\n Time taken: %i hours %i minutes and %s seconds.' % (thour, tmin, round(tsec, 2)))\n"
   ]
  },
  {
   "cell_type": "code",
   "execution_count": 14,
   "metadata": {
    "colab": {},
    "colab_type": "code",
    "collapsed": true,
    "id": "FDBqypOL79iN"
   },
   "outputs": [],
   "source": [
    "params = {\n",
    "        'min_child_weight': [1, 5, 10],\n",
    "        'gamma': [0.5, 1, 1.5, 2, 5],\n",
    "        'subsample': [0.6, 0.8, 1.0],\n",
    "        'colsample_bytree': [0.6, 0.8, 1.0],\n",
    "        'max_depth': [3, 4, 5]\n",
    "        }"
   ]
  },
  {
   "cell_type": "code",
   "execution_count": 15,
   "metadata": {
    "colab": {},
    "colab_type": "code",
    "collapsed": true,
    "id": "S0IRab5a8BbU"
   },
   "outputs": [],
   "source": [
    "xgb = XGBClassifier(learning_rate=0.02, n_estimators=600, objective='binary:logistic',\n",
    "                    silent=True, nthread=1)"
   ]
  },
  {
   "cell_type": "code",
   "execution_count": 16,
   "metadata": {
    "colab": {
     "base_uri": "https://localhost:8080/",
     "height": 123
    },
    "colab_type": "code",
    "id": "JJ9CIm4w8uEK",
    "outputId": "0bf2d971-bc32-49e3-b90e-de09d8804afb"
   },
   "outputs": [
    {
     "name": "stdout",
     "output_type": "stream",
     "text": [
      "Fitting 10 folds for each of 10 candidates, totalling 100 fits\n"
     ]
    },
    {
     "name": "stderr",
     "output_type": "stream",
     "text": [
      "[Parallel(n_jobs=4)]: Using backend LokyBackend with 4 concurrent workers.\n",
      "[Parallel(n_jobs=4)]: Done  24 tasks      | elapsed:   45.8s\n",
      "[Parallel(n_jobs=4)]: Done 100 out of 100 | elapsed:  2.6min finished\n"
     ]
    },
    {
     "name": "stdout",
     "output_type": "stream",
     "text": [
      "\n",
      " Time taken: 0 hours 2 minutes and 39.52 seconds.\n"
     ]
    }
   ],
   "source": [
    "folds = 10\n",
    "param_comb = 10\n",
    "\n",
    "skf = StratifiedKFold(n_splits=folds, shuffle = True, random_state = 1001)\n",
    "\n",
    "random_search = RandomizedSearchCV(xgb, param_distributions=params, n_iter=param_comb, scoring='roc_auc', n_jobs=4, cv=skf.split(df_trainX, df_trainY), verbose=3, random_state=1001 )\n",
    "\n",
    "# Here we go\n",
    "start_time = timer(None) # timing starts from this point for \"start_time\" variable\n",
    "random_search.fit(df_trainX, df_trainY)\n",
    "timer(start_time) # timing ends here for \"start_time\" variable"
   ]
  },
  {
   "cell_type": "code",
   "execution_count": 17,
   "metadata": {
    "colab": {
     "base_uri": "https://localhost:8080/",
     "height": 1014
    },
    "colab_type": "code",
    "id": "axe6JsQn9ANS",
    "outputId": "983f9023-adcf-4d1d-ef53-393e18b0bf4a"
   },
   "outputs": [
    {
     "name": "stdout",
     "output_type": "stream",
     "text": [
      "\n",
      " All results:\n",
      "{'mean_fit_time': array([ 5.90536511,  7.40701129,  7.0476368 ,  5.46484187,  6.97346287,\n",
      "        4.67855167,  5.60468462,  5.17017438,  5.99307966,  5.16322429]), 'std_fit_time': array([ 0.59544726,  0.07782866,  0.06416983,  0.04935961,  0.0626642 ,\n",
      "        0.0382237 ,  0.05214254,  0.24095729,  0.02897615,  0.1779636 ]), 'mean_score_time': array([ 0.01924574,  0.02084537,  0.01975102,  0.01236718,  0.01655927,\n",
      "        0.01562419,  0.01213357,  0.01119342,  0.01767225,  0.01667531]), 'std_score_time': array([ 0.01536323,  0.00094086,  0.0010725 ,  0.00066222,  0.00091071,\n",
      "        0.0007718 ,  0.00137846,  0.00303001,  0.00423375,  0.00180925]), 'param_subsample': masked_array(data = [1.0 0.6 0.8 1.0 0.8 1.0 1.0 0.8 0.8 0.8],\n",
      "             mask = [False False False False False False False False False False],\n",
      "       fill_value = ?)\n",
      ", 'param_min_child_weight': masked_array(data = [5 1 5 5 1 10 1 1 1 1],\n",
      "             mask = [False False False False False False False False False False],\n",
      "       fill_value = ?)\n",
      ", 'param_max_depth': masked_array(data = [3 5 5 5 4 4 5 3 5 4],\n",
      "             mask = [False False False False False False False False False False],\n",
      "       fill_value = ?)\n",
      ", 'param_gamma': masked_array(data = [5 1.5 1 5 1 1.5 5 2 0.5 1.5],\n",
      "             mask = [False False False False False False False False False False],\n",
      "       fill_value = ?)\n",
      ", 'param_colsample_bytree': masked_array(data = [1.0 0.8 0.8 0.6 1.0 0.6 0.6 0.8 0.6 0.6],\n",
      "             mask = [False False False False False False False False False False],\n",
      "       fill_value = ?)\n",
      ", 'params': [{'subsample': 1.0, 'min_child_weight': 5, 'max_depth': 3, 'gamma': 5, 'colsample_bytree': 1.0}, {'subsample': 0.6, 'min_child_weight': 1, 'max_depth': 5, 'gamma': 1.5, 'colsample_bytree': 0.8}, {'subsample': 0.8, 'min_child_weight': 5, 'max_depth': 5, 'gamma': 1, 'colsample_bytree': 0.8}, {'subsample': 1.0, 'min_child_weight': 5, 'max_depth': 5, 'gamma': 5, 'colsample_bytree': 0.6}, {'subsample': 0.8, 'min_child_weight': 1, 'max_depth': 4, 'gamma': 1, 'colsample_bytree': 1.0}, {'subsample': 1.0, 'min_child_weight': 10, 'max_depth': 4, 'gamma': 1.5, 'colsample_bytree': 0.6}, {'subsample': 1.0, 'min_child_weight': 1, 'max_depth': 5, 'gamma': 5, 'colsample_bytree': 0.6}, {'subsample': 0.8, 'min_child_weight': 1, 'max_depth': 3, 'gamma': 2, 'colsample_bytree': 0.8}, {'subsample': 0.8, 'min_child_weight': 1, 'max_depth': 5, 'gamma': 0.5, 'colsample_bytree': 0.6}, {'subsample': 0.8, 'min_child_weight': 1, 'max_depth': 4, 'gamma': 1.5, 'colsample_bytree': 0.6}], 'split0_test_score': array([ 0.84487699,  0.84828332,  0.85022979,  0.84947283,  0.85423087,\n",
      "        0.84958097,  0.8531495 ,  0.85179778,  0.84839146,  0.85201406]), 'split1_test_score': array([ 0.86420089,  0.86861314,  0.87035625,  0.86659767,  0.86480009,\n",
      "        0.87171805,  0.86741475,  0.86485456,  0.8702473 ,  0.86910339]), 'split2_test_score': array([ 0.84889422,  0.87144569,  0.87041072,  0.85559429,  0.86817736,\n",
      "        0.86071467,  0.85842684,  0.85466826,  0.86953917,  0.8606602 ]), 'split3_test_score': array([ 0.84077786,  0.84006972,  0.84257544,  0.84350147,  0.85123652,\n",
      "        0.84268439,  0.84758688,  0.84704216,  0.84186731,  0.84856738]), 'split4_test_score': array([ 0.87542216,  0.85156335,  0.85445038,  0.86670661,  0.86076915,\n",
      "        0.86599847,  0.86812289,  0.86599847,  0.85379671,  0.85995206]), 'split5_test_score': array([ 0.85902604,  0.84137706,  0.84213967,  0.85662926,  0.84878527,\n",
      "        0.84388278,  0.85619349,  0.85690162,  0.84524458,  0.84949341]), 'split6_test_score': array([ 0.9045103 ,  0.88735156,  0.89405164,  0.89944438,  0.89503214,\n",
      "        0.90145985,  0.8972655 ,  0.90113302,  0.88991176,  0.89448742]), 'split7_test_score': array([ 0.86627084,  0.8794531 ,  0.87580346,  0.87422377,  0.87781893,\n",
      "        0.87150016,  0.87346116,  0.87885391,  0.87302538,  0.87531321]), 'split8_test_score': array([ 0.88174093,  0.88048807,  0.8880597 ,  0.88522715,  0.88724262,\n",
      "        0.88577187,  0.88457348,  0.88729709,  0.88441007,  0.88348404]), 'split9_test_score': array([ 0.87378799,  0.86948469,  0.86610742,  0.87019283,  0.86763264,\n",
      "        0.86915786,  0.87297091,  0.86893997,  0.86632531,  0.86529034]), 'mean_test_score': array([ 0.86594305,  0.86380724,  0.86541284,  0.86675265,  0.86756764,\n",
      "        0.86624076,  0.86791109,  0.8677428 ,  0.86427004,  0.86583145]), 'std_test_score': array([ 0.01818663,  0.01627407,  0.01704286,  0.01595023,  0.01448441,\n",
      "        0.01746667,  0.01433279,  0.01613928,  0.0155987 ,  0.01432074]), 'rank_test_score': array([ 6, 10,  8,  4,  3,  5,  1,  2,  9,  7]), 'split0_train_score': array([ 0.90588958,  0.98949023,  0.98210354,  0.93692392,  0.97524408,\n",
      "        0.95242899,  0.93735903,  0.94184727,  0.99216408,  0.97034764]), 'split1_train_score': array([ 0.90540111,  0.98984129,  0.98148171,  0.93558896,  0.97434101,\n",
      "        0.95315613,  0.93932898,  0.94076491,  0.99182822,  0.96963879]), 'split2_train_score': array([ 0.90394435,  0.98885758,  0.98053763,  0.93538469,  0.97437999,\n",
      "        0.94893367,  0.93859723,  0.9394123 ,  0.99083308,  0.96831775]), 'split3_train_score': array([ 0.9077445 ,  0.98951977,  0.9811454 ,  0.93914587,  0.97556428,\n",
      "        0.95147326,  0.94377015,  0.9411973 ,  0.99170424,  0.96979904]), 'split4_train_score': array([ 0.90694959,  0.9900711 ,  0.98214558,  0.94107064,  0.9744922 ,\n",
      "        0.95244992,  0.94144525,  0.94062179,  0.99234427,  0.97007353]), 'split5_train_score': array([ 0.9051105 ,  0.9904158 ,  0.98120084,  0.94120772,  0.97612031,\n",
      "        0.95210791,  0.94494504,  0.94158938,  0.99160379,  0.96946677]), 'split6_train_score': array([ 0.90230448,  0.99048904,  0.98118135,  0.93704976,  0.97312077,\n",
      "        0.95036288,  0.93883846,  0.93890767,  0.99154197,  0.96903807]), 'split7_train_score': array([ 0.9050638 ,  0.98989471,  0.98201556,  0.93775496,  0.97477206,\n",
      "        0.95359995,  0.94251094,  0.93946168,  0.99194547,  0.96986288]), 'split8_train_score': array([ 0.9047416 ,  0.9899572 ,  0.98180592,  0.93941465,  0.97452479,\n",
      "        0.9533305 ,  0.94214473,  0.93916872,  0.9920429 ,  0.96994821]), 'split9_train_score': array([ 0.90463409,  0.99046956,  0.98284843,  0.93573074,  0.97493635,\n",
      "        0.95316083,  0.94342646,  0.94051495,  0.99221929,  0.97141606]), 'mean_train_score': array([ 0.90517836,  0.98990063,  0.98164659,  0.93792719,  0.97474958,\n",
      "        0.9521004 ,  0.94123663,  0.94034859,  0.99182273,  0.96979088]), 'std_train_score': array([ 0.00143403,  0.00048709,  0.00063143,  0.0020713 ,  0.00076785,\n",
      "        0.00140255,  0.00242592,  0.00099565,  0.00041588,  0.00076981])}\n",
      "\n",
      " Best estimator:\n",
      "XGBClassifier(base_score=0.5, booster='gbtree', colsample_bylevel=1,\n",
      "       colsample_bytree=0.6, gamma=5, learning_rate=0.02, max_delta_step=0,\n",
      "       max_depth=5, min_child_weight=1, missing=None, n_estimators=600,\n",
      "       n_jobs=1, nthread=1, objective='binary:logistic', random_state=0,\n",
      "       reg_alpha=0, reg_lambda=1, scale_pos_weight=1, seed=None,\n",
      "       silent=True, subsample=1.0)\n",
      "\n",
      " Best normalized gini score for 10-fold search with 10 parameter combinations:\n",
      "0.735822186982\n",
      "\n",
      " Best hyperparameters:\n",
      "{'subsample': 1.0, 'min_child_weight': 1, 'max_depth': 5, 'gamma': 5, 'colsample_bytree': 0.6}\n"
     ]
    }
   ],
   "source": [
    "print('\\n All results:')\n",
    "print(random_search.cv_results_)\n",
    "print('\\n Best estimator:')\n",
    "print(random_search.best_estimator_)\n",
    "print('\\n Best normalized gini score for %d-fold search with %d parameter combinations:' % (folds, param_comb))\n",
    "print(random_search.best_score_ * 2 - 1)\n",
    "print('\\n Best hyperparameters:')\n",
    "print(random_search.best_params_)\n",
    "results = pd.DataFrame(random_search.cv_results_)\n",
    "results.to_csv('xgb-random-grid-search-results-01.csv', index=False)\n"
   ]
  },
  {
   "cell_type": "code",
   "execution_count": 18,
   "metadata": {
    "colab": {},
    "colab_type": "code",
    "collapsed": true,
    "id": "P-4JjYnJ9AKU"
   },
   "outputs": [],
   "source": [
    "df_testY = random_search.predict(df_testX)"
   ]
  },
  {
   "cell_type": "code",
   "execution_count": 19,
   "metadata": {
    "colab": {},
    "colab_type": "code",
    "collapsed": true,
    "id": "62Zvp86K3sZW"
   },
   "outputs": [],
   "source": [
    "results_df = pd.DataFrame(data={'X_social_than_Y?':df_testY})\n",
    "results_df.to_csv('Test_Data_y.csv', index=False)"
   ]
  },
  {
   "cell_type": "code",
   "execution_count": null,
   "metadata": {
    "collapsed": true
   },
   "outputs": [],
   "source": []
  }
 ],
 "metadata": {
  "colab": {
   "name": "Social_Influence.ipynb",
   "provenance": [],
   "version": "0.3.2"
  },
  "kernelspec": {
   "display_name": "Python 3",
   "language": "python",
   "name": "python3"
  },
  "language_info": {
   "codemirror_mode": {
    "name": "ipython",
    "version": 3
   },
   "file_extension": ".py",
   "mimetype": "text/x-python",
   "name": "python",
   "nbconvert_exporter": "python",
   "pygments_lexer": "ipython3",
   "version": "3.6.3"
  }
 },
 "nbformat": 4,
 "nbformat_minor": 1
}
